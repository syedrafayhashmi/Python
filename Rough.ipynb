{
 "cells": [
  {
   "cell_type": "code",
   "execution_count": 3,
   "metadata": {},
   "outputs": [
    {
     "name": "stdout",
     "output_type": "stream",
     "text": [
      "Holidays can be a fun time when you have good company!\n",
      "Holidays can be a fun time when you have good company! Holidays can also be fun on your own!\n"
     ]
    }
   ],
   "source": [
    "sent = \"Holidays can be a fun time when you have good company!\"\n",
    "phrase = sent\n",
    "phrase = phrase + \" Holidays can also be fun on your own!\"\n",
    "print(sent)\n",
    "print(phrase)"
   ]
  },
  {
   "cell_type": "code",
   "execution_count": 8,
   "metadata": {},
   "outputs": [
    {
     "name": "stdout",
     "output_type": "stream",
     "text": [
      "['cricket', 'football', 'horseback riding', 'volleyball', 'baseball', 'softball', 'track and field', 'curling', 'ping pong', 'hockey']\n"
     ]
    }
   ],
   "source": [
    "sports = ['cricket', 'football', 'volleyball', 'baseball', 'softball', 'track and field', 'curling', 'ping pong', 'hockey']\n",
    "\n",
    "\n",
    "sports.insert(2,'horseback riding')\n",
    "print(sports)"
   ]
  },
  {
   "cell_type": "code",
   "execution_count": 18,
   "metadata": {},
   "outputs": [
    {
     "name": "stdout",
     "output_type": "stream",
     "text": [
      "Original List: ['Alice Munro', 'Alvin E. Roth', 'Kazuo Ishiguro', 'Malala Yousafzai', 'Rainer Weiss', 'Youyou Tu']\n",
      "Updated List: ['Youyou Tu', 'Rainer Weiss', 'Malala Yousafzai', 'Kazuo Ishiguro', 'Alvin E. Roth', 'Alice Munro']\n"
     ]
    }
   ],
   "source": [
    "# Operating System List\n",
    "os = ['Alice Munro', 'Alvin E. Roth', 'Kazuo Ishiguro', 'Malala Yousafzai', 'Rainer Weiss', 'Youyou Tu']\n",
    "\n",
    "print('Original List:', os)\n",
    "\n",
    "# List Reverse\n",
    "os.reverse()\n",
    "\n",
    "# updated list\n",
    "print('Updated List:', os)"
   ]
  },
  {
   "cell_type": "code",
   "execution_count": 55,
   "metadata": {},
   "outputs": [
    {
     "name": "stdout",
     "output_type": "stream",
     "text": [
      "['I', 'love', 'python']\n",
      "['I']\n",
      "['love']\n",
      "['python']\n",
      "python\n"
     ]
    }
   ],
   "source": [
    "str1 = \"I love python\"\n",
    "# HINT: what's the accumulator? That should go here.\n",
    "chars=str1.split()\n",
    "print(chars)\n",
    "\n",
    "for i in range(3):\n",
    "    a=chars[i].split()\n",
    "    str(a)\n",
    "    print(a)\n",
    "x='python'\n",
    "x.split(' ')\n",
    "print(x)"
   ]
  },
  {
   "cell_type": "code",
   "execution_count": 69,
   "metadata": {},
   "outputs": [
    {
     "name": "stdout",
     "output_type": "stream",
     "text": [
      "['I', 'love', 'python']\n",
      "['I', '', 'l', 'o', 'v', 'e', '', 'p', 'y', 't', 'h', 'o', 'n']\n"
     ]
    }
   ],
   "source": [
    "str1 = \"I love python\"\n",
    "# HINT: what's the accumulator? That should go here.\n",
    "chars=[]\n",
    "for i in str1:\n",
    "      lst=str1.split()\n",
    "print (lst)\n",
    "for j in lst:\n",
    "    chars.append(\"\")\n",
    "    for k in j:\n",
    "        chars.append(k)\n",
    "chars.remove(\"\")\n",
    "print(chars)"
   ]
  },
  {
   "cell_type": "code",
   "execution_count": 70,
   "metadata": {},
   "outputs": [
    {
     "name": "stdout",
     "output_type": "stream",
     "text": [
      "['I', 'love', 'python']\n",
      "['I', ' ', 'l', 'o', 'v', 'e', ' ', 'p', 'y', 't', 'h', 'o', 'n']\n"
     ]
    }
   ],
   "source": [
    "str1 = \"I love python\"\n",
    "# HINT: what's the accumulator? That should go here.\n",
    "chars=[]\n",
    "for i in str1:\n",
    "      lst=str1.split()\n",
    "print (lst)\n",
    "for j in lst:\n",
    "    chars.append(\" \")\n",
    "    for k in j:\n",
    "        chars.append(k)\n",
    "chars.remove(\" \")\n",
    "print(chars)"
   ]
  },
  {
   "cell_type": "code",
   "execution_count": 5,
   "metadata": {},
   "outputs": [
    {
     "name": "stdout",
     "output_type": "stream",
     "text": [
      "Nmap not found <class 'nmap.nmap.PortScannerError'>\n"
     ]
    },
    {
     "ename": "SystemExit",
     "evalue": "0",
     "output_type": "error",
     "traceback": [
      "An exception has occurred, use %tb to see the full traceback.\n",
      "\u001b[1;31mSystemExit\u001b[0m\u001b[1;31m:\u001b[0m 0\n"
     ]
    },
    {
     "name": "stderr",
     "output_type": "stream",
     "text": [
      "C:\\Users\\Rafey\\Anaconda3\\lib\\site-packages\\IPython\\core\\interactiveshell.py:3304: UserWarning: To exit: use 'exit', 'quit', or Ctrl-D.\n",
      "  warn(\"To exit: use 'exit', 'quit', or Ctrl-D.\", stacklevel=1)\n"
     ]
    }
   ],
   "source": [
    "\n",
    "import sys\n",
    "import os\n",
    "\n",
    "import nmap                         # import nmap.py module\n",
    "try:\n",
    "    nm = nmap.PortScanner()         # instantiate nmap.PortScanner object\n",
    "except nmap.PortScannerError:\n",
    "    print('Nmap not found', sys.exc_info()[0])\n",
    "    sys.exit(0)\n",
    "except:\n",
    "    print(\"Unexpected error:\", sys.exc_info()[0])\n",
    "    sys.exit(0)\n",
    "\n",
    "\n",
    "\n",
    "\n",
    "\n",
    "\n",
    "nm.scan('127.0.0.1', '22-443')      # scan host 127.0.0.1, ports from 22 to 443\n",
    "nm.command_line()                   # get command line used for the scan : nmap -oX - -p 22-443 127.0.0.1\n",
    "nm.scaninfo()                       # get nmap scan informations {'tcp': {'services': '22-443', 'method': 'connect'}}\n",
    "nm.all_hosts()                      # get all hosts that were scanned\n",
    "nm['127.0.0.1'].hostname()          # get hostname for host 127.0.0.1\n",
    "nm['127.0.0.1'].state()             # get state of host 127.0.0.1 (up|down|unknown|skipped) \n",
    "nm['127.0.0.1'].all_protocols()     # get all scanned protocols ['tcp', 'udp'] in (ip|tcp|udp|sctp)\n",
    "if ('tcp' in nm['127.0.0.1']):\n",
    "    list(nm['127.0.0.1']['tcp'].keys()) # get all ports for tcp protocol\n",
    "\n",
    "nm['127.0.0.1'].all_tcp()           # get all ports for tcp protocol (sorted version)\n",
    "nm['127.0.0.1'].all_udp()           # get all ports for udp protocol (sorted version)\n",
    "nm['127.0.0.1'].all_ip()            # get all ports for ip protocol (sorted version)\n",
    "nm['127.0.0.1'].all_sctp()          # get all ports for sctp protocol (sorted version)\n",
    "if nm['127.0.0.1'].has_tcp(22):     # is there any information for port 22/tcp on host 127.0.0.1\n",
    "    nm['127.0.0.1']['tcp'][22]          # get infos about port 22 in tcp on host 127.0.0.1\n",
    "    nm['127.0.0.1'].tcp(22)             # get infos about port 22 in tcp on host 127.0.0.1\n",
    "    nm['127.0.0.1']['tcp'][22]['state'] # get state of port 22/tcp on host 127.0.0.1 (open\n",
    "\n",
    "\n",
    "# a more usefull example :\n",
    "for host in nm.all_hosts():\n",
    "    print('----------------------------------------------------')\n",
    "    print('Host : %s (%s)' % (host, nm[host].hostname()))\n",
    "    print('State : %s' % nm[host].state())\n",
    "\n",
    "    for proto in nm[host].all_protocols():\n",
    "        print('----------')\n",
    "        print('Protocol : %s' % proto)\n",
    "\n",
    "        lport = list(nm[host][proto].keys())\n",
    "        lport.sort()\n",
    "        for port in lport:\n",
    "            print('port : %s\\tstate : %s' % (port, nm[host][proto][port]['state']))\n",
    "\n",
    "\n",
    "\n",
    "print('----------------------------------------------------')\n",
    "# If you want to do a pingsweep on network 192.168.1.0/24:\n",
    "nm.scan(hosts='192.168.1.0/24', arguments='-n -sP -PE -PA21,23,80,3389')\n",
    "hosts_list = [(x, nm[x]['status']['state']) for x in nm.all_hosts()]\n",
    "for host, status in hosts_list:\n",
    "    print('{0}:{1}'.format(host, status))\n",
    "\n",
    "\n",
    "\n",
    "\n",
    "\n",
    "\n",
    "\n",
    "print('----------------------------------------------------')\n",
    "# Asynchronous usage of PortScannerAsync\n",
    "\n",
    "\n",
    "nma = nmap.PortScannerAsync()\n",
    "\n",
    "def callback_result(host, scan_result):\n",
    "    print('------------------')\n",
    "    print(host, scan_result)\n",
    "\n",
    "nma.scan(hosts='192.168.1.0/30', arguments='-sP', callback=callback_result)\n",
    "\n",
    "while nma.still_scanning():\n",
    "    print(\"Waiting ...\")\n",
    "    nma.wait(2)   # you can do whatever you want but I choose to wait after the end of the scan\n",
    "\n",
    "if (os.getuid() == 0):\n",
    "    print('----------------------------------------------------')\n",
    "    # Os detection (need root privileges)\n",
    "    nm.scan(\"127.0.0.1\", arguments=\"-O\")\n",
    "    if nm['127.0.0.1'].has_key('osclass'):\n",
    "        for osclass in nm['127.0.0.1']['osclass']:\n",
    "            print('OsClass.type : {0}'.format(osclass['type']))\n",
    "            print('OsClass.vendor : {0}'.format(osclass['vendor']))\n",
    "            print('OsClass.osfamily : {0}'.format(osclass['osfamily']))\n",
    "            print('OsClass.osgen : {0}'.format(osclass['osgen']))\n",
    "            print('OsClass.accuracy : {0}'.format(osclass['accuracy']))\n",
    "            print('')\n",
    "\n",
    "    if nm['127.0.0.1'].has_key('osmatch'):\n",
    "        for osmatch in nm['127.0.0.1']['osmatch']:\n",
    "            print('osmatch.name : {0}'.format(osmatch['name']))\n",
    "            print('osmatch.accuracy : {0}'.format(osmatch['accuracy']))\n",
    "            print('osmatch.line : {0}'.format(osmatch['line']))\n",
    "            print('')\n",
    "\n",
    "    if nm['127.0.0.1'].has_key('fingerprint'):\n",
    "        print('Fingerprint : {0}'.format(nm['127.0.0.1']['fingerprint']))"
   ]
  },
  {
   "cell_type": "code",
   "execution_count": null,
   "metadata": {},
   "outputs": [],
   "source": []
  }
 ],
 "metadata": {
  "kernelspec": {
   "display_name": "Python 3",
   "language": "python",
   "name": "python3"
  },
  "language_info": {
   "codemirror_mode": {
    "name": "ipython",
    "version": 3
   },
   "file_extension": ".py",
   "mimetype": "text/x-python",
   "name": "python",
   "nbconvert_exporter": "python",
   "pygments_lexer": "ipython3",
   "version": "3.7.3"
  }
 },
 "nbformat": 4,
 "nbformat_minor": 2
}
