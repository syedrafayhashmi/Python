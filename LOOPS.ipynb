{
 "cells": [
  {
   "cell_type": "markdown",
   "metadata": {},
   "source": [
    "# While loops\n"
   ]
  },
  {
   "cell_type": "code",
   "execution_count": 2,
   "metadata": {},
   "outputs": [
    {
     "name": "stdout",
     "output_type": "stream",
     "text": [
      "1 WHILE loop\n",
      "2 WHILE loop\n",
      "3 WHILE loop\n",
      "4 WHILE loop\n",
      "5 WHILE loop\n",
      "6 WHILE loop\n",
      "7 WHILE loop\n",
      "8 WHILE loop\n",
      "9 WHILE loop\n",
      "10 WHILE loop\n",
      "11 WHILE loop\n",
      "12 WHILE loop\n",
      "13 WHILE loop\n",
      "14 WHILE loop\n",
      "15 WHILE loop\n"
     ]
    }
   ],
   "source": [
    "a=1\n",
    "while a<=15:\n",
    "    print(a,\"WHILE loop\")\n",
    "    a+=1"
   ]
  },
  {
   "cell_type": "markdown",
   "metadata": {},
   "source": [
    "# For Loops"
   ]
  },
  {
   "cell_type": "code",
   "execution_count": 4,
   "metadata": {},
   "outputs": [
    {
     "name": "stdout",
     "output_type": "stream",
     "text": [
      "1 FOR Loop\n",
      "2 FOR Loop\n",
      "3 FOR Loop\n",
      "4 FOR Loop\n",
      "5 FOR Loop\n",
      "6 FOR Loop\n",
      "7 FOR Loop\n",
      "8 FOR Loop\n",
      "9 FOR Loop\n",
      "10 FOR Loop\n",
      "11 FOR Loop\n",
      "12 FOR Loop\n",
      "13 FOR Loop\n",
      "14 FOR Loop\n",
      "15 FOR Loop\n"
     ]
    }
   ],
   "source": [
    "for num in range(1,16):\n",
    "    print(num,\"FOR Loop\")"
   ]
  },
  {
   "cell_type": "markdown",
   "metadata": {},
   "source": [
    "# Setting A Flag"
   ]
  },
  {
   "cell_type": "code",
   "execution_count": 22,
   "metadata": {},
   "outputs": [
    {
     "name": "stdout",
     "output_type": "stream",
     "text": [
      "Enter your favourite Food: Pizza\n",
      "Enter your favourite Food: Biryani\n",
      "Enter your favourite Food: BBQ\n",
      "Enter your favourite Food: Q\n"
     ]
    },
    {
     "data": {
      "text/plain": [
       "['Pizza', 'Biryani', 'BBQ']"
      ]
     },
     "execution_count": 22,
     "metadata": {},
     "output_type": "execute_result"
    }
   ],
   "source": [
    "flag = True\n",
    "fav_Foods=[]\n",
    "while flag:\n",
    "    userinput = input(\"Enter your favourite Food: \")\n",
    "    if userinput == 'Q':\n",
    "        flag=False\n",
    "    else:\n",
    "        fav_Foods.append(userinput)\n",
    "fav_Foods\n",
    "    \n"
   ]
  },
  {
   "cell_type": "code",
   "execution_count": 1,
   "metadata": {},
   "outputs": [
    {
     "name": "stdout",
     "output_type": "stream",
     "text": [
      "Enter your favourite Car: BMW\n",
      "Enter your favourite Car: AUDI\n",
      "Enter your favourite Car: JAGUAR\n",
      "Enter your favourite Car: LAMBORGHINI\n",
      "Enter your favourite Car: N\n"
     ]
    },
    {
     "data": {
      "text/plain": [
       "['BMW', 'AUDI', 'JAGUAR', 'LAMBORGHINI']"
      ]
     },
     "execution_count": 1,
     "metadata": {},
     "output_type": "execute_result"
    }
   ],
   "source": [
    "tag=not(False)\n",
    "fav_Cars=[]\n",
    "while tag:\n",
    "    userinput = input(\"Enter your favourite Car: \")\n",
    "    if userinput == 'N':\n",
    "        tag=not(True)\n",
    "    else:\n",
    "        fav_Cars.append(userinput)\n",
    "fav_Cars\n",
    "    \n"
   ]
  }
 ],
 "metadata": {
  "kernelspec": {
   "display_name": "Python 3",
   "language": "python",
   "name": "python3"
  },
  "language_info": {
   "codemirror_mode": {
    "name": "ipython",
    "version": 3
   },
   "file_extension": ".py",
   "mimetype": "text/x-python",
   "name": "python",
   "nbconvert_exporter": "python",
   "pygments_lexer": "ipython3",
   "version": "3.7.3"
  }
 },
 "nbformat": 4,
 "nbformat_minor": 2
}
