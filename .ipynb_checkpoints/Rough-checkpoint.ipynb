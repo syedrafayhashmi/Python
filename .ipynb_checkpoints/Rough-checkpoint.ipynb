{
 "cells": [
  {
   "cell_type": "code",
   "execution_count": 3,
   "metadata": {},
   "outputs": [
    {
     "name": "stdout",
     "output_type": "stream",
     "text": [
      "Holidays can be a fun time when you have good company!\n",
      "Holidays can be a fun time when you have good company! Holidays can also be fun on your own!\n"
     ]
    }
   ],
   "source": [
    "sent = \"Holidays can be a fun time when you have good company!\"\n",
    "phrase = sent\n",
    "phrase = phrase + \" Holidays can also be fun on your own!\"\n",
    "print(sent)\n",
    "print(phrase)"
   ]
  },
  {
   "cell_type": "code",
   "execution_count": 8,
   "metadata": {},
   "outputs": [
    {
     "name": "stdout",
     "output_type": "stream",
     "text": [
      "['cricket', 'football', 'horseback riding', 'volleyball', 'baseball', 'softball', 'track and field', 'curling', 'ping pong', 'hockey']\n"
     ]
    }
   ],
   "source": [
    "sports = ['cricket', 'football', 'volleyball', 'baseball', 'softball', 'track and field', 'curling', 'ping pong', 'hockey']\n",
    "\n",
    "\n",
    "sports.insert(2,'horseback riding')\n",
    "print(sports)"
   ]
  },
  {
   "cell_type": "code",
   "execution_count": 18,
   "metadata": {},
   "outputs": [
    {
     "name": "stdout",
     "output_type": "stream",
     "text": [
      "Original List: ['Alice Munro', 'Alvin E. Roth', 'Kazuo Ishiguro', 'Malala Yousafzai', 'Rainer Weiss', 'Youyou Tu']\n",
      "Updated List: ['Youyou Tu', 'Rainer Weiss', 'Malala Yousafzai', 'Kazuo Ishiguro', 'Alvin E. Roth', 'Alice Munro']\n"
     ]
    }
   ],
   "source": [
    "# Operating System List\n",
    "os = ['Alice Munro', 'Alvin E. Roth', 'Kazuo Ishiguro', 'Malala Yousafzai', 'Rainer Weiss', 'Youyou Tu']\n",
    "\n",
    "print('Original List:', os)\n",
    "\n",
    "# List Reverse\n",
    "os.reverse()\n",
    "\n",
    "# updated list\n",
    "print('Updated List:', os)"
   ]
  },
  {
   "cell_type": "code",
   "execution_count": 55,
   "metadata": {},
   "outputs": [
    {
     "name": "stdout",
     "output_type": "stream",
     "text": [
      "['I', 'love', 'python']\n",
      "['I']\n",
      "['love']\n",
      "['python']\n",
      "python\n"
     ]
    }
   ],
   "source": [
    "str1 = \"I love python\"\n",
    "# HINT: what's the accumulator? That should go here.\n",
    "chars=str1.split()\n",
    "print(chars)\n",
    "\n",
    "for i in range(3):\n",
    "    a=chars[i].split()\n",
    "    str(a)\n",
    "    print(a)\n",
    "x='python'\n",
    "x.split(' ')\n",
    "print(x)"
   ]
  },
  {
   "cell_type": "code",
   "execution_count": 69,
   "metadata": {},
   "outputs": [
    {
     "name": "stdout",
     "output_type": "stream",
     "text": [
      "['I', 'love', 'python']\n",
      "['I', '', 'l', 'o', 'v', 'e', '', 'p', 'y', 't', 'h', 'o', 'n']\n"
     ]
    }
   ],
   "source": [
    "str1 = \"I love python\"\n",
    "# HINT: what's the accumulator? That should go here.\n",
    "chars=[]\n",
    "for i in str1:\n",
    "      lst=str1.split()\n",
    "print (lst)\n",
    "for j in lst:\n",
    "    chars.append(\"\")\n",
    "    for k in j:\n",
    "        chars.append(k)\n",
    "chars.remove(\"\")\n",
    "print(chars)"
   ]
  },
  {
   "cell_type": "code",
   "execution_count": 70,
   "metadata": {},
   "outputs": [
    {
     "name": "stdout",
     "output_type": "stream",
     "text": [
      "['I', 'love', 'python']\n",
      "['I', ' ', 'l', 'o', 'v', 'e', ' ', 'p', 'y', 't', 'h', 'o', 'n']\n"
     ]
    }
   ],
   "source": [
    "str1 = \"I love python\"\n",
    "# HINT: what's the accumulator? That should go here.\n",
    "chars=[]\n",
    "for i in str1:\n",
    "      lst=str1.split()\n",
    "print (lst)\n",
    "for j in lst:\n",
    "    chars.append(\" \")\n",
    "    for k in j:\n",
    "        chars.append(k)\n",
    "chars.remove(\" \")\n",
    "print(chars)"
   ]
  },
  {
   "cell_type": "code",
   "execution_count": 4,
   "metadata": {},
   "outputs": [
    {
     "ename": "PortScannerError",
     "evalue": "'nmap program was not found in path. PATH is : C:\\\\SPB_Data\\\\bin;C:\\\\Program Files\\\\Git\\\\mingw64\\\\bin;C:\\\\Program Files\\\\Git\\\\usr\\\\local\\\\bin;C:\\\\Program Files\\\\Git\\\\usr\\\\bin;C:\\\\Program Files\\\\Git\\\\usr\\\\bin;C:\\\\Program Files\\\\Git\\\\mingw64\\\\bin;C:\\\\Program Files\\\\Git\\\\usr\\\\bin;C:\\\\SPB_Data\\\\bin;C:\\\\Program Files (x86)\\\\SIEMENS\\\\S7-PCT\\\\bin;C:\\\\Program Files (x86)\\\\Common Files\\\\Siemens\\\\Sqlany;C:\\\\Program Files (x86)\\\\Siemens\\\\Step7\\\\S7bin;C:\\\\Program Files\\\\Common Files\\\\Siemens\\\\Automation\\\\Simatic OAM\\\\bin;C:\\\\Program Files\\\\ImageMagick-6.9.3-Q16;C:\\\\WINDOWS\\\\system32;C:\\\\WINDOWS;C:\\\\WINDOWS\\\\System32\\\\Wbem;C:\\\\WINDOWS\\\\System32\\\\WindowsPowerShell\\\\v1.0;C:\\\\Program Files\\\\MATLAB\\\\runtime\\\\win64;C:\\\\Program Files\\\\MATLAB\\\\bin;C:\\\\OrCAD\\\\OrCAD_16.6_Lite\\\\tools\\\\PSpice;C:\\\\OrCAD\\\\OrCAD_16.6_Lite\\\\tools\\\\Capture;C:\\\\OrCAD\\\\OrCAD_16.6_Lite\\\\tools\\\\bin;C:\\\\OrCAD\\\\OrCAD_16.6_Lite\\\\OpenAccess\\\\bin\\\\win32\\\\opt;C:\\\\OrCAD\\\\OrCAD_16.6_Lite\\\\tools\\\\fet\\\\bin;C:\\\\OrCAD\\\\OrCAD_16.6_Lite\\\\tools\\\\pcb\\\\bin;C:\\\\OrCAD\\\\OrCAD_10.0\\\\tools\\\\pcb\\\\bin;C:\\\\OrCAD\\\\OrCAD_10.0\\\\tools\\\\specctra\\\\bin;C:\\\\OrCAD\\\\OrCAD_10.0\\\\tools\\\\bin;C:\\\\OrCAD\\\\OrCAD_10.0\\\\tools\\\\PSpice\\\\Library;C:\\\\OrCAD\\\\OrCAD_10.0\\\\tools\\\\fet\\\\bin;C:\\\\OrCAD\\\\OrCAD_10.0\\\\tools\\\\jre\\\\bin;C:\\\\OrCAD\\\\OrCAD_10.0\\\\tools\\\\Capture;C:\\\\WINDOWS\\\\System32\\\\OpenSSH;C:\\\\TDM-GCC-64\\\\bin;C:\\\\Program Files\\\\Git\\\\cmd;C:\\\\Program Files\\\\Microsoft VS Code\\\\bin;C:\\\\Program Files (x86)\\\\Intel\\\\Intel(R) Management Engine Components\\\\DAL;C:\\\\Program Files\\\\Intel\\\\Intel(R) Management Engine Components\\\\DAL;C:\\\\ProgramData\\\\Anaconda3\\\\Script;C:\\\\ProgramData\\\\Anaconda3;.;C:\\\\altera\\\\11.0sp1\\\\quartus\\\\bin;C:\\\\Program Files\\\\PuTTY;C:\\\\cmake-3.16.0-rc4-win64-x64\\\\bin;C:\\\\Program Files\\\\PKWARE\\\\pkzipc;C:\\\\Program Files (x86)\\\\Microchip\\\\xc8\\\\v2.10\\\\bin;C:\\\\src\\\\flutter\\\\bin;C:\\\\altera\\\\90\\\\modelsim_ase\\\\win32aloem;C:\\\\Users\\\\Rafey\\\\Anaconda3;C:\\\\Users\\\\Rafey\\\\Anaconda3\\\\Library\\\\mingw-w64\\\\bin;C:\\\\Users\\\\Rafey\\\\Anaconda3\\\\Library\\\\usr\\\\bin;C:\\\\Users\\\\Rafey\\\\Anaconda3\\\\Library\\\\bin;C:\\\\Users\\\\Rafey\\\\Anaconda3\\\\Scripts;C:\\\\Users\\\\Rafey\\\\AppData\\\\Local\\\\Microsoft\\\\WindowsApps;C:\\\\Users\\\\Rafey\\\\AppData\\\\Local\\\\Programs\\\\Microsoft VS Code\\\\bin;C:\\\\altera\\\\11.0\\\\modelsim_ae\\\\win32aloem;C:\\\\Users\\\\Rafey\\\\AppData\\\\Local\\\\GitHubDesktop\\\\bin;C:\\\\Users\\\\Rafey\\\\AppData\\\\Local\\\\Microsoft\\\\WindowsApps;C:\\\\cmake-3.16.0-rc4-win64-x64\\\\bin;flutter\\\\bin;C:\\\\Users\\\\Rafey\\\\AppData\\\\Local\\\\Android\\\\Sdk\\\\platform-tools;C:\\\\Program Files\\\\Git\\\\usr\\\\bin\\\\vendor_perl;C:\\\\Program Files\\\\Git\\\\usr\\\\bin\\\\core_perl'",
     "output_type": "error",
     "traceback": [
      "\u001b[1;31m---------------------------------------------------------------------------\u001b[0m",
      "\u001b[1;31mPortScannerError\u001b[0m                          Traceback (most recent call last)",
      "\u001b[1;32m<ipython-input-4-9cf1c13f9950>\u001b[0m in \u001b[0;36m<module>\u001b[1;34m\u001b[0m\n\u001b[0;32m      1\u001b[0m \u001b[1;32mimport\u001b[0m \u001b[0mnmap\u001b[0m\u001b[1;33m\u001b[0m\u001b[1;33m\u001b[0m\u001b[0m\n\u001b[0;32m      2\u001b[0m \u001b[1;31m# initialize the port scanner\u001b[0m\u001b[1;33m\u001b[0m\u001b[1;33m\u001b[0m\u001b[1;33m\u001b[0m\u001b[0m\n\u001b[1;32m----> 3\u001b[1;33m \u001b[0mnmScan\u001b[0m \u001b[1;33m=\u001b[0m \u001b[0mnmap\u001b[0m\u001b[1;33m.\u001b[0m\u001b[0mPortScanner\u001b[0m\u001b[1;33m(\u001b[0m\u001b[1;33m)\u001b[0m\u001b[1;33m\u001b[0m\u001b[1;33m\u001b[0m\u001b[0m\n\u001b[0m\u001b[0;32m      4\u001b[0m \u001b[1;33m\u001b[0m\u001b[0m\n\u001b[0;32m      5\u001b[0m \u001b[1;31m# scan localhost for ports in range 21-443\u001b[0m\u001b[1;33m\u001b[0m\u001b[1;33m\u001b[0m\u001b[1;33m\u001b[0m\u001b[0m\n",
      "\u001b[1;32mC:\\Users\\Rafey\\Anaconda3\\lib\\site-packages\\nmap\\nmap.py\u001b[0m in \u001b[0;36m__init__\u001b[1;34m(self, nmap_search_path)\u001b[0m\n\u001b[0;32m    129\u001b[0m             raise PortScannerError(\n\u001b[0;32m    130\u001b[0m                 'nmap program was not found in path. PATH is : {0}'.format(\n\u001b[1;32m--> 131\u001b[1;33m                     \u001b[0mos\u001b[0m\u001b[1;33m.\u001b[0m\u001b[0mgetenv\u001b[0m\u001b[1;33m(\u001b[0m\u001b[1;34m'PATH'\u001b[0m\u001b[1;33m)\u001b[0m\u001b[1;33m\u001b[0m\u001b[1;33m\u001b[0m\u001b[0m\n\u001b[0m\u001b[0;32m    132\u001b[0m                 )\n\u001b[0;32m    133\u001b[0m             )\n",
      "\u001b[1;31mPortScannerError\u001b[0m: 'nmap program was not found in path. PATH is : C:\\\\SPB_Data\\\\bin;C:\\\\Program Files\\\\Git\\\\mingw64\\\\bin;C:\\\\Program Files\\\\Git\\\\usr\\\\local\\\\bin;C:\\\\Program Files\\\\Git\\\\usr\\\\bin;C:\\\\Program Files\\\\Git\\\\usr\\\\bin;C:\\\\Program Files\\\\Git\\\\mingw64\\\\bin;C:\\\\Program Files\\\\Git\\\\usr\\\\bin;C:\\\\SPB_Data\\\\bin;C:\\\\Program Files (x86)\\\\SIEMENS\\\\S7-PCT\\\\bin;C:\\\\Program Files (x86)\\\\Common Files\\\\Siemens\\\\Sqlany;C:\\\\Program Files (x86)\\\\Siemens\\\\Step7\\\\S7bin;C:\\\\Program Files\\\\Common Files\\\\Siemens\\\\Automation\\\\Simatic OAM\\\\bin;C:\\\\Program Files\\\\ImageMagick-6.9.3-Q16;C:\\\\WINDOWS\\\\system32;C:\\\\WINDOWS;C:\\\\WINDOWS\\\\System32\\\\Wbem;C:\\\\WINDOWS\\\\System32\\\\WindowsPowerShell\\\\v1.0;C:\\\\Program Files\\\\MATLAB\\\\runtime\\\\win64;C:\\\\Program Files\\\\MATLAB\\\\bin;C:\\\\OrCAD\\\\OrCAD_16.6_Lite\\\\tools\\\\PSpice;C:\\\\OrCAD\\\\OrCAD_16.6_Lite\\\\tools\\\\Capture;C:\\\\OrCAD\\\\OrCAD_16.6_Lite\\\\tools\\\\bin;C:\\\\OrCAD\\\\OrCAD_16.6_Lite\\\\OpenAccess\\\\bin\\\\win32\\\\opt;C:\\\\OrCAD\\\\OrCAD_16.6_Lite\\\\tools\\\\fet\\\\bin;C:\\\\OrCAD\\\\OrCAD_16.6_Lite\\\\tools\\\\pcb\\\\bin;C:\\\\OrCAD\\\\OrCAD_10.0\\\\tools\\\\pcb\\\\bin;C:\\\\OrCAD\\\\OrCAD_10.0\\\\tools\\\\specctra\\\\bin;C:\\\\OrCAD\\\\OrCAD_10.0\\\\tools\\\\bin;C:\\\\OrCAD\\\\OrCAD_10.0\\\\tools\\\\PSpice\\\\Library;C:\\\\OrCAD\\\\OrCAD_10.0\\\\tools\\\\fet\\\\bin;C:\\\\OrCAD\\\\OrCAD_10.0\\\\tools\\\\jre\\\\bin;C:\\\\OrCAD\\\\OrCAD_10.0\\\\tools\\\\Capture;C:\\\\WINDOWS\\\\System32\\\\OpenSSH;C:\\\\TDM-GCC-64\\\\bin;C:\\\\Program Files\\\\Git\\\\cmd;C:\\\\Program Files\\\\Microsoft VS Code\\\\bin;C:\\\\Program Files (x86)\\\\Intel\\\\Intel(R) Management Engine Components\\\\DAL;C:\\\\Program Files\\\\Intel\\\\Intel(R) Management Engine Components\\\\DAL;C:\\\\ProgramData\\\\Anaconda3\\\\Script;C:\\\\ProgramData\\\\Anaconda3;.;C:\\\\altera\\\\11.0sp1\\\\quartus\\\\bin;C:\\\\Program Files\\\\PuTTY;C:\\\\cmake-3.16.0-rc4-win64-x64\\\\bin;C:\\\\Program Files\\\\PKWARE\\\\pkzipc;C:\\\\Program Files (x86)\\\\Microchip\\\\xc8\\\\v2.10\\\\bin;C:\\\\src\\\\flutter\\\\bin;C:\\\\altera\\\\90\\\\modelsim_ase\\\\win32aloem;C:\\\\Users\\\\Rafey\\\\Anaconda3;C:\\\\Users\\\\Rafey\\\\Anaconda3\\\\Library\\\\mingw-w64\\\\bin;C:\\\\Users\\\\Rafey\\\\Anaconda3\\\\Library\\\\usr\\\\bin;C:\\\\Users\\\\Rafey\\\\Anaconda3\\\\Library\\\\bin;C:\\\\Users\\\\Rafey\\\\Anaconda3\\\\Scripts;C:\\\\Users\\\\Rafey\\\\AppData\\\\Local\\\\Microsoft\\\\WindowsApps;C:\\\\Users\\\\Rafey\\\\AppData\\\\Local\\\\Programs\\\\Microsoft VS Code\\\\bin;C:\\\\altera\\\\11.0\\\\modelsim_ae\\\\win32aloem;C:\\\\Users\\\\Rafey\\\\AppData\\\\Local\\\\GitHubDesktop\\\\bin;C:\\\\Users\\\\Rafey\\\\AppData\\\\Local\\\\Microsoft\\\\WindowsApps;C:\\\\cmake-3.16.0-rc4-win64-x64\\\\bin;flutter\\\\bin;C:\\\\Users\\\\Rafey\\\\AppData\\\\Local\\\\Android\\\\Sdk\\\\platform-tools;C:\\\\Program Files\\\\Git\\\\usr\\\\bin\\\\vendor_perl;C:\\\\Program Files\\\\Git\\\\usr\\\\bin\\\\core_perl'"
     ]
    }
   ],
   "source": [
    "import nmap\n",
    "# initialize the port scanner\n",
    "nmScan = nmap.PortScanner()\n",
    "\n",
    "# scan localhost for ports in range 21-443\n",
    "nmScan.scan('127.0.0.1', '21-443')\n",
    "\n",
    "# run a loop to print all the found result about the ports\n",
    "for host in nmScan.all_hosts():\n",
    "    print('Host : %s (%s)' % (host, nmScan[host].hostname()))\n",
    "    print('State : %s' % nmScan[host].state())\n",
    "    for proto in nmScan[host].all_protocols():\n",
    "        print('----------')\n",
    "        print('Protocol : %s' % proto)\n",
    " \n",
    "        lport = nmScan[host][proto].keys()\n",
    "        lport.sort()\n",
    "        for port in lport:\n",
    "            print ('port : %s\\tstate : %s' % (port, nmScan[host][proto][port]['state']))"
   ]
  },
  {
   "cell_type": "code",
   "execution_count": null,
   "metadata": {},
   "outputs": [],
   "source": []
  }
 ],
 "metadata": {
  "kernelspec": {
   "display_name": "Python 3",
   "language": "python",
   "name": "python3"
  },
  "language_info": {
   "codemirror_mode": {
    "name": "ipython",
    "version": 3
   },
   "file_extension": ".py",
   "mimetype": "text/x-python",
   "name": "python",
   "nbconvert_exporter": "python",
   "pygments_lexer": "ipython3",
   "version": "3.7.3"
  }
 },
 "nbformat": 4,
 "nbformat_minor": 2
}
