{
 "cells": [
  {
   "cell_type": "markdown",
   "metadata": {},
   "source": [
    "The textfile, travel_plans.txt, contains the summer travel plans for someone with some commentary. Find the total number of characters in the file and save to the variable num."
   ]
  },
  {
   "cell_type": "code",
   "execution_count": 15,
   "metadata": {},
   "outputs": [
    {
     "name": "stdout",
     "output_type": "stream",
     "text": [
      "316\n"
     ]
    }
   ],
   "source": [
    "with open(\"travel_plans.txt\",\"r\") as file:\n",
    "    text=file.read()\n",
    "    num = len(text)\n",
    "    print(num)\n",
    "    \n",
    "    "
   ]
  },
  {
   "cell_type": "code",
   "execution_count": 16,
   "metadata": {},
   "outputs": [
    {
     "name": "stdout",
     "output_type": "stream",
     "text": [
      "This summer I will be travelling.\n",
      "I will go to...\n",
      "Italy: Rome\n",
      "Greece: Athens\n",
      "England: London, Manchester\n",
      "France: Paris, Nice, Lyon\n",
      "Spain: Madrid, Barcelona, Granada\n",
      "Austria: Vienna\n",
      "I will probably not even want to come back!\n",
      "However, I wonder how I will get by with all the different languages.\n",
      "I only know English!\n",
      "\n"
     ]
    }
   ],
   "source": [
    "print(text)"
   ]
  },
  {
   "cell_type": "markdown",
   "metadata": {},
   "source": [
    "We have provided a file called emotion_words.txt that contains lines of words that describe emotions. Find the total number of words in the file and assign this value to the variable num_words"
   ]
  },
  {
   "cell_type": "code",
   "execution_count": 36,
   "metadata": {},
   "outputs": [
    {
     "name": "stdout",
     "output_type": "stream",
     "text": [
      "['Sad', 'upset', 'blue', 'down', 'melancholy', 'somber', 'bitter', 'mad', 'enraged', 'irate', 'irritable', 'wrathful', 'outraged', 'cheerful', 'content', 'elated', 'joyous', 'delighted', 'lively', 'disoriented', 'puzzled', 'perplexed', 'dazed', 'eager', 'thrilled', 'afraid', 'fearful', 'panicked', 'terrified', 'petrified', 'anxious', 'jittery', 'jumpy', 'tense', 'uneasy', 'troubled', 'Angry', 'infuriated', 'Happy', 'glad', 'Confused', 'befuddled', 'Excited', 'delighted', 'Scared', 'startled', 'Nervous', 'apprehensive']\n",
      "48\n"
     ]
    }
   ],
   "source": [
    "with open(\"emotion_words.txt\",\"r\") as file:\n",
    "    text1=file.read()\n",
    "lst=text1.split(\" \")\n",
    "\n",
    "for x in lst:\n",
    "    if \"\\n\" in x:\n",
    "        y = x.split()\n",
    "        lst.remove(x)\n",
    "        for z in y:\n",
    "            lst.append(z)\n",
    "print(lst)            \n",
    "num_words = len(lst)\n",
    "print(num_words)\n",
    "    \n",
    "    "
   ]
  },
  {
   "cell_type": "code",
   "execution_count": 23,
   "metadata": {},
   "outputs": [
    {
     "name": "stdout",
     "output_type": "stream",
     "text": [
      "Sad upset blue down melancholy somber bitter troubled\n",
      "Angry mad enraged irate irritable wrathful outraged infuriated\n",
      "Happy cheerful content elated joyous delighted lively glad\n",
      "Confused disoriented puzzled perplexed dazed befuddled\n",
      "Excited eager thrilled delighted\n",
      "Scared afraid fearful panicked terrified petrified startled\n",
      "Nervous anxious jittery jumpy tense uneasy apprehensive\n",
      "\n"
     ]
    }
   ],
   "source": [
    "print(text1)"
   ]
  },
  {
   "cell_type": "markdown",
   "metadata": {},
   "source": [
    "Assign to the variable num_lines the number of lines in the file school_prompt.txt."
   ]
  },
  {
   "cell_type": "code",
   "execution_count": 2,
   "metadata": {},
   "outputs": [
    {
     "name": "stdout",
     "output_type": "stream",
     "text": [
      "10\n"
     ]
    }
   ],
   "source": [
    "file = open(\"school_prompt.txt\",\"r\")\n",
    "text = file.read()\n",
    "count=0\n",
    "for x in text:\n",
    "    if x=='\\n':\n",
    "        count+=1\n",
    "num_lines = count        \n",
    "print(num_lines)\n",
    "file.close()"
   ]
  },
  {
   "cell_type": "markdown",
   "metadata": {},
   "source": [
    "Assign the first 30 characters of school_prompt.txt as a string to the variable beginning_chars"
   ]
  },
  {
   "cell_type": "code",
   "execution_count": 9,
   "metadata": {},
   "outputs": [
    {
     "name": "stdout",
     "output_type": "stream",
     "text": [
      "Writing essays for school can \n"
     ]
    }
   ],
   "source": [
    "with open(\"school_prompt.txt\",\"r\") as file:\n",
    "    text=file.read()\n",
    "beginning_chars=\"\"\n",
    "count=0\n",
    "for x in text:\n",
    "    if count==30:\n",
    "        break\n",
    "    else:\n",
    "        beginning_chars+=x\n",
    "        count+=1\n",
    "print(beginning_chars)    "
   ]
  },
  {
   "cell_type": "markdown",
   "metadata": {},
   "source": [
    "Challenge: Using the file school_prompt.txt, assign the third word of every line to a list called three."
   ]
  },
  {
   "cell_type": "code",
   "execution_count": 19,
   "metadata": {},
   "outputs": [
    {
     "name": "stdout",
     "output_type": "stream",
     "text": [
      "['Writing', 'essays', 'for', 'school', 'can', 'be', 'difficult', 'but\\nmany', 'students', 'find', 'that', 'by', 'researching', 'their', 'topic', 'that', 'they\\nhave', 'more', 'to', 'say', 'and', 'are', 'better', 'informed.', 'Here', 'are', 'the', 'university\\nwe', 'require', 'many', 'undergraduate', 'students', 'to', 'take', 'a', 'first', 'year', 'writing', 'requirement\\nso', 'that', 'they', 'can\\nhave', 'a', 'solid', 'foundation', 'for', 'their', 'writing', 'skills.', 'This', 'comes\\nin', 'handy', 'for', 'many', 'students.\\nDifferent', 'schools', 'have', 'different', 'requirements,', 'but', 'everyone', 'uses\\nwriting', 'at', 'some', 'point', 'in', 'their', 'academic', 'career,', 'be', 'it', 'essays,', 'research', 'papers,\\ntechnical', 'write', 'ups,', 'or', 'scripts.\\n']\n",
      "['for', 'find', 'to', 'many', 'they', 'solid', 'for', 'have', 'some', 'ups,']\n"
     ]
    }
   ],
   "source": [
    "file = open(\"school_prompt.txt\",\"r\")\n",
    "text = file.read()\n",
    "lst=text.split(\" \")  # .split() would'nt have \\n\n",
    "print(lst)\n",
    "three=[]\n",
    "cnt_ln=0\n",
    "cnt_wrd=0\n",
    "a=3\n",
    "for x in lst:\n",
    "    cnt_wrd += 1\n",
    "    if \"\\n\" in x:\n",
    "        a=2\n",
    "        cnt_ln += 1   \n",
    "        cnt_wrd=0\n",
    "    if cnt_wrd == a:\n",
    "        three.append(x)\n",
    "        \n",
    "print(three)\n",
    "file.close()"
   ]
  },
  {
   "cell_type": "markdown",
   "metadata": {},
   "source": [
    "Assign the first 33 characters from the textfile, travel_plans.txt to the variable first_chars"
   ]
  },
  {
   "cell_type": "code",
   "execution_count": 20,
   "metadata": {},
   "outputs": [
    {
     "name": "stdout",
     "output_type": "stream",
     "text": [
      "This summer I will be travelling.\n"
     ]
    }
   ],
   "source": [
    "with open(\"travel_plans.txt\",\"r\") as file:\n",
    "    text=file.read()\n",
    "first_chars=\"\"\n",
    "count=0\n",
    "for x in text:\n",
    "    if count==33:\n",
    "        break\n",
    "    else:\n",
    "        first_chars+=x\n",
    "        count+=1\n",
    "print(first_chars)    \n",
    "\n"
   ]
  },
  {
   "cell_type": "markdown",
   "metadata": {},
   "source": [
    "Challenge: Create a list called emotions that contains the first word of every line in emotion_words.txt."
   ]
  },
  {
   "cell_type": "code",
   "execution_count": 36,
   "metadata": {},
   "outputs": [
    {
     "name": "stdout",
     "output_type": "stream",
     "text": [
      "['Sad upset blue down melancholy somber bitter troubled', 'Angry mad enraged irate irritable wrathful outraged infuriated', 'Happy cheerful content elated joyous delighted lively glad', 'Confused disoriented puzzled perplexed dazed befuddled', 'Excited eager thrilled delighted', 'Scared afraid fearful panicked terrified petrified startled', 'Nervous anxious jittery jumpy tense uneasy apprehensive']\n",
      "['Sad', 'Angry', 'Happy', 'Confused', 'Excited', 'Scared', 'Nervous']\n"
     ]
    }
   ],
   "source": [
    "with open(\"emotion_words.txt\",\"r\") as file:\n",
    "    text1=file.read()\n",
    "lst=text1.split(\"\\n\")\n",
    "lst.pop()\n",
    "emotions=[]\n",
    "\n",
    "for x in lst:\n",
    "    z=x.split(\" \")\n",
    "    emotions.append(z[0])\n",
    "\n",
    "print(lst)            \n",
    "print(emotions)\n",
    "\n",
    "    \n",
    "    "
   ]
  },
  {
   "cell_type": "markdown",
   "metadata": {},
   "source": [
    "Challenge: Using the file school_prompt.txt, if the character ‘p’ is in a word, then add the word to a list called p_words."
   ]
  },
  {
   "cell_type": "code",
   "execution_count": 53,
   "metadata": {
    "scrolled": true
   },
   "outputs": [
    {
     "name": "stdout",
     "output_type": "stream",
     "text": [
      "['Writing', 'essays', 'for', 'school', 'can', 'be', 'difficult', 'but', 'many', 'students', 'find', 'that', 'by', 'researching', 'their', 'topic', 'that', 'they', 'have', 'more', 'to', 'say', 'and', 'are', 'better', 'informed.', 'Here', 'are', 'the', 'university', 'we', 'require', 'many', 'undergraduate', 'students', 'to', 'take', 'a', 'first', 'year', 'writing', 'requirement', 'so', 'that', 'they', 'can', 'have', 'a', 'solid', 'foundation', 'for', 'their', 'writing', 'skills.', 'This', 'comes', 'in', 'handy', 'for', 'many', 'students.', 'Different', 'schools', 'have', 'different', 'requirements,', 'but', 'everyone', 'uses', 'writing', 'at', 'some', 'point', 'in', 'their', 'academic', 'career,', 'be', 'it', 'essays,', 'research', 'papers,', 'technical', 'write', 'ups,', 'or', 'scripts.']\n",
      "P_words: ['topic', 'point', 'papers,', 'ups,', 'scripts.']\n"
     ]
    }
   ],
   "source": [
    "file= open(\"school_prompt.txt\",\"r\")\n",
    "myfile = file.read()\n",
    "final = myfile.split()\n",
    "print(final)\n",
    "p_words = []\n",
    "for x in final:\n",
    "    if \"p\" in x:\n",
    "        p_words.append(x)\n",
    "print(\"P_words:\",p_words)"
   ]
  },
  {
   "cell_type": "code",
   "execution_count": null,
   "metadata": {},
   "outputs": [],
   "source": []
  }
 ],
 "metadata": {
  "kernelspec": {
   "display_name": "Python 3",
   "language": "python",
   "name": "python3"
  },
  "language_info": {
   "codemirror_mode": {
    "name": "ipython",
    "version": 3
   },
   "file_extension": ".py",
   "mimetype": "text/x-python",
   "name": "python",
   "nbconvert_exporter": "python",
   "pygments_lexer": "ipython3",
   "version": "3.7.3"
  }
 },
 "nbformat": 4,
 "nbformat_minor": 2
}
