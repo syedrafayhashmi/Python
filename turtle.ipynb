{
 "cells": [
  {
   "cell_type": "code",
   "execution_count": 1,
   "metadata": {},
   "outputs": [],
   "source": [
    "import turtle\n",
    "colors =['red','green','blue','orange','yellow']\n",
    "win = turtle.Screen()\n",
    "rafay = turtle.Turtle()\n",
    "rafay.speed(1)\n",
    "def R():\n",
    "    rafay.color(colors[0])\n",
    "    rafay.left(90)\n",
    "    rafay.forward(100)\n",
    "    rafay.right(90)\n",
    "    rafay.forward(50)\n",
    "    rafay.right(90)\n",
    "    rafay.forward(50)\n",
    "    rafay.right(90)\n",
    "    rafay.forward(50)\n",
    "    rafay.left(135)\n",
    "    rafay.forward(70)\n",
    "rafay.write(\"RAFAY\")\n",
    "R()\n"
   ]
  },
  {
   "cell_type": "markdown",
   "metadata": {},
   "source": [
    "# MAKING a spiral"
   ]
  },
  {
   "cell_type": "code",
   "execution_count": 1,
   "metadata": {},
   "outputs": [
    {
     "data": {
      "text/plain": [
       "<bound method _Screen.exitonclick of <turtle._Screen object at 0x0000026E55D7B048>>"
      ]
     },
     "execution_count": 1,
     "metadata": {},
     "output_type": "execute_result"
    }
   ],
   "source": [
    "import turtle\n",
    "wn = turtle.Screen()\n",
    "colors=['#e6194b', '#3cb44b', '#ffe119', '#4363d8', '#f58231', '#911eb4',\n",
    "        '#46f0f0', '#f032e6', '#bcf60c', '#fabebe', '#008080', '#e6beff',\n",
    "        '#9a6324', '#fffac8', '#800000', '#aaffc3', '#808000', '#ffd8b1',\n",
    "        '#000075', '#808080', '#ffffff', '#e6194b', '#3cb44b', '#ffd8b1',\n",
    "        '#ffe119', '#4363d8', '#f58231', '#911eb4', '#46f0f0',\n",
    "        '#f032e6', '#bcf60c', '#fabebe', '#008080', '#e6beff',\n",
    "        '#9a6324', '#fffac8', '#800000', '#aaffc3', '#808000',\n",
    "        '#ffd8b1', '#000075', '#808080', '#ffffff', '#fffac8']\n",
    "elan = turtle.Turtle()\n",
    "angle=90\n",
    "distance = 50\n",
    "for _ in range(40):\n",
    "    elan.pensize(_)\n",
    "    elan.pencolor(colors[_])\n",
    "    \n",
    "    wn.bgcolor(colors[_])\n",
    "    elan.forward(distance)\n",
    "    elan.right(angle)\n",
    "    distance = distance + 10\n",
    "    angle= angle-1\n",
    "    wn.exitonclick\n",
    "wn.exitonclick"
   ]
  },
  {
   "cell_type": "code",
   "execution_count": null,
   "metadata": {},
   "outputs": [],
   "source": []
  },
  {
   "cell_type": "raw",
   "metadata": {},
   "source": []
  },
  {
   "cell_type": "code",
   "execution_count": 32,
   "metadata": {},
   "outputs": [],
   "source": []
  },
  {
   "cell_type": "code",
   "execution_count": null,
   "metadata": {},
   "outputs": [],
   "source": []
  },
  {
   "cell_type": "code",
   "execution_count": null,
   "metadata": {},
   "outputs": [],
   "source": []
  }
 ],
 "metadata": {
  "kernelspec": {
   "display_name": "Python 3",
   "language": "python",
   "name": "python3"
  },
  "language_info": {
   "codemirror_mode": {
    "name": "ipython",
    "version": 3
   },
   "file_extension": ".py",
   "mimetype": "text/x-python",
   "name": "python",
   "nbconvert_exporter": "python",
   "pygments_lexer": "ipython3",
   "version": "3.7.3"
  }
 },
 "nbformat": 4,
 "nbformat_minor": 2
}
