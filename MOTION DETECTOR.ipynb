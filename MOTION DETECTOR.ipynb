{
 "cells": [
  {
   "cell_type": "code",
   "execution_count": null,
   "metadata": {},
   "outputs": [],
   "source": [
    "import numpy as np\n",
    "import cv2 \n",
    "import time\n",
    "\n",
    "fps=0\n",
    "\n",
    "\n",
    "cap = cv2.VideoCapture(0)\n",
    "kernel= None\n",
    "foog = cv2.bgsegm.createBackgroundSubtractorMOG()\n",
    "while(1):\n",
    "    ret, frame = cap.read()\n",
    "    if ret:\n",
    "        frameorig = frame.copy()\n",
    "        start_time = time.time()\n",
    "\n",
    "\n",
    "        \n",
    "        frame = cv2.GaussianBlur(frame,(5,5),0)\n",
    "        fgmask = foog.apply(frame)\n",
    "        fgmask = cv2.erode(fgmask,kernel,iterations = 1)\n",
    "        fgmask = cv2.dilate(fgmask,kernel,iterations = 3)\n",
    "        contours, hierarchy = cv2.findContours(fgmask,cv2.RETR_EXTERNAL,cv2.CHAIN_APPROX_SIMPLE)\n",
    "        cv2.drawContours(frame, contours, -1, (0,255,0), 3)\n",
    "        for cnt in contours:\n",
    "            if cv2.contourArea(cnt) > 200:\n",
    "                \n",
    "                x,y,w,h = cv2.boundingRect(cnt)\n",
    "                cv2.rectangle(frameorig,(x ,y),(x+w,y+h),(0,0,255),2)\n",
    "                cv2.putText(frameorig,'Motion Detected',(x,y-10), cv2.FONT_HERSHEY_SIMPLEX, 0.3, (0,255,0), 1, cv2.LINE_AA)\n",
    "       \n",
    "    \n",
    "    \n",
    "    \n",
    "        cv2.putText(frameorig, 'FPS: {:.2f}'.format(fps), (20, 20),fontFace=cv2.FONT_HERSHEY_SIMPLEX,fontScale=0.5,color=(0, 0, 255))   \n",
    "       \n",
    "    \n",
    "        cv2.imshow('frame',fgmask)\n",
    "        cv2.imshow('framre',frameorig)\n",
    "\n",
    "        fps= (1.0 / (time.time()))\n",
    "\n",
    "        k = cv2.waitKey(1) & 0xff\n",
    "        if k == ord('q'):\n",
    "            break\n",
    "    else: \n",
    "        break\n",
    "cap.release()\n",
    "cv2.destroyAllWindows()"
   ]
  },
  {
   "cell_type": "code",
   "execution_count": null,
   "metadata": {},
   "outputs": [],
   "source": []
  },
  {
   "cell_type": "code",
   "execution_count": null,
   "metadata": {},
   "outputs": [],
   "source": []
  }
 ],
 "metadata": {
  "kernelspec": {
   "display_name": "Python 3",
   "language": "python",
   "name": "python3"
  },
  "language_info": {
   "codemirror_mode": {
    "name": "ipython",
    "version": 3
   },
   "file_extension": ".py",
   "mimetype": "text/x-python",
   "name": "python",
   "nbconvert_exporter": "python",
   "pygments_lexer": "ipython3",
   "version": "3.7.3"
  }
 },
 "nbformat": 4,
 "nbformat_minor": 2
}
