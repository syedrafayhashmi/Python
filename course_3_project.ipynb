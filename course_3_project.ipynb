{
 "cells": [
  {
   "cell_type": "markdown",
   "metadata": {},
   "source": [
    "# Description: Final Project for Course 3 - OMDB and TasteDive Mashup"
   ]
  },
  {
   "cell_type": "raw",
   "metadata": {},
   "source": [
    "This project will take you through the process of mashing up data from two different APIs to make movie recommendations. The TasteDive API lets you provide a movie (or bands, TV shows, etc.) as a query input, and returns a set of related items. The OMDB API lets you provide a movie title as a query input and get back data about the movie, including scores from various review sites (Rotten Tomatoes, IMDB, etc.).\n",
    "\n",
    "You will put those two together. You will use TasteDive to get related movies for a whole list of titles. You’ll combine the resulting lists of related movies, and sort them according to their Rotten Tomatoes scores (which will require making API calls to the OMDB API.)\n",
    "\n",
    "To avoid problems with rate limits and site accessibility, we have provided a cache file with results for all the queries you need to make to both OMDB and TasteDive. Just use requests_with_caching.get() rather than requests.get(). If you’re having trouble, you may not be formatting your queries properly, or you may not be asking for data that exists in our cache. We will try to provide as much information as we can to help guide you to form queries for which data exists in the cache.\n",
    "\n",
    "Your first task will be to fetch data from TasteDive. The documentation for the API is at https://tastedive.com/read/api.\n",
    "\n",
    "Define a function, called get_movies_from_tastedive. It should take one input parameter, a string that is the name of a movie or music artist. The function should return the 5 TasteDive results that are associated with that string; be sure to only get movies, not other kinds of media. It will be a python dictionary with just one key, ‘Similar’.\n",
    "\n",
    "Try invoking your function with the input “Black Panther”.\n",
    "\n",
    "HINT: Be sure to include only q, type, and limit as parameters in order to extract data from the cache. If any other parameters are included, then the function will not be able to recognize the data that you’re attempting to pull from the cache. Remember, you will not need an api key in order to complete the project, because all data will be found in the cache.\n",
    "\n",
    "The cache includes data for the following queries:\n",
    "\n",
    "q\ttype\tlimit\n",
    "Black Panther\t<omitted>\t<omitted>\n",
    "Black Panther\t<omitted>\t5\n",
    "Black Panther\tmovies\t<omitted>\n",
    "Black Panther\tmovies\t5\n",
    "Tony Bennett\t<omitted>\t5\n",
    "Tony Bennett\tmovies\t5\n",
    "Captain Marvel\tmovies\t5\n",
    "Bridesmaids\tmovies\t5\n",
    "Sherlock Holmes\tmovies\t5\n"
   ]
  },
  {
   "cell_type": "code",
   "execution_count": 14,
   "metadata": {},
   "outputs": [],
   "source": [
    "import requests\n",
    "def get_movies_from_tastedive(name,key = \"345364-rafay-MDQH10P4\"):\n",
    "    baseurl = \"https://tastedive.com/api/similar\"\n",
    "    params_dictn = {} \n",
    "    params_dictn[\"q\"] = name\n",
    "    params_dictn[\"type\"] = \"movies\"\n",
    "    params_dictn[\"limit\"] = \"5\"\n",
    "    params_dictn[\"k\"] = key\n",
    "    resp = requests.get(baseurl, params = params_dictn)\n",
    "    print(resp.url)\n",
    "    return resp.json()\n",
    "\n"
   ]
  },
  {
   "cell_type": "markdown",
   "metadata": {},
   "source": [
    "Please copy the completed function from above into this active code window. Next, you will need to write a function that extracts just the list of movie titles from a dictionary returned by get_movies_from_tastedive. Call it extract_movie_titles."
   ]
  },
  {
   "cell_type": "code",
   "execution_count": 13,
   "metadata": {},
   "outputs": [],
   "source": [
    "def extract_movie_titles(name):\n",
    "    result = []\n",
    "    for x in name['Similar']['Results']:\n",
    "        result.append(x['Name'])\n",
    "    return result\n"
   ]
  },
  {
   "cell_type": "markdown",
   "metadata": {},
   "source": [
    "Please copy the completed functions from the two code windows above into this active code window. Next, you’ll write a function, called get_related_titles. It takes a list of movie titles as input. It gets five related movies for each from TasteDive, extracts the titles for all of them, and combines them all into a single list. Don’t include the same movie twice."
   ]
  },
  {
   "cell_type": "code",
   "execution_count": 15,
   "metadata": {},
   "outputs": [],
   "source": [
    "\n",
    "def get_related_titles(listName):\n",
    "        lst=[]\n",
    "        relatedList=[]\n",
    "        for name in listName:\n",
    "            lst = extract_movie_titles(get_movies_from_tastedive(name))\n",
    "            for x in lst:\n",
    "                if x not in relatedList:\n",
    "                    relatedList.append(x)    \n",
    "        return relatedList"
   ]
  },
  {
   "cell_type": "markdown",
   "metadata": {},
   "source": [
    "Your next task will be to fetch data from OMDB. The documentation for the API is at https://www.omdbapi.com/\n",
    "\n",
    "Define a function called get_movie_data. It takes in one parameter which is a string that should represent the title of a movie you want to search. The function should return a dictionary with information about that movie.\n",
    "\n",
    "Again, use requests_with_caching.get(). For the queries on movies that are already in the cache, you won’t need an api key. You will need to provide the following keys: t and r. As with the TasteDive cache, be sure to only include those two parameters in order to extract existing data from the cache."
   ]
  },
  {
   "cell_type": "code",
   "execution_count": 22,
   "metadata": {},
   "outputs": [],
   "source": [
    "import requests\n",
    "import json\n",
    "def get_movie_data(name,key = \"6fd0ae41\"):\n",
    "    baseurl = \"https://www.omdbapi.com/\"\n",
    "    params_dictn = {} \n",
    "    params_dictn[\"t\"] = name\n",
    "    params_dictn[\"r\"] = \"json\"\n",
    "    params_dictn[\"apikey\"] = key\n",
    "    \n",
    "    resp = requests.get(baseurl, params = params_dictn)\n",
    "    print(resp.url)\n",
    "    return resp.json()\n",
    "\n",
    "\n",
    "\n",
    "\n",
    "\n",
    "# some invocations that we use in the automated tests; uncomment these if you are getting errors and want better error messages\n",
    "#get_movie_data(\"Venom\")\n",
    "#get_movie_data(\"Baby Mama\")\n",
    "\n"
   ]
  },
  {
   "cell_type": "markdown",
   "metadata": {},
   "source": [
    "Please copy the completed function from above into this active code window. Now write a function called get_movie_rating. It takes an OMDB dictionary result for one movie and extracts the Rotten Tomatoes rating as an integer. For example, if given the OMDB dictionary for “Black Panther”, it would return 97. If there is no Rotten Tomatoes rating, return 0.\n"
   ]
  },
  {
   "cell_type": "code",
   "execution_count": 23,
   "metadata": {},
   "outputs": [],
   "source": [
    "def get_movie_rating(nameJson):\n",
    "    rating = \"\"\n",
    "    for x in nameJson[\"Ratings\"]:\n",
    "        if x[\"Source\"] == \"Rotten Tomatoes\":\n",
    "            rating = x[\"Value\"]\n",
    "    if rating == \"\":\n",
    "        rating = 0\n",
    "        return rating\n",
    "    else:\n",
    "        return int(rating[:2])"
   ]
  },
  {
   "cell_type": "markdown",
   "metadata": {},
   "source": [
    "Now, you’ll put it all together. Don’t forget to copy all of the functions that you have previously defined into this code window. Define a function get_sorted_recommendations. It takes a list of movie titles as an input. It returns a sorted list of related movie titles as output, up to five related movies for each input movie title. The movies should be sorted in descending order by their Rotten Tomatoes rating, as returned by the get_movie_rating function. Break ties in reverse alphabetic order, so that ‘Yahşi Batı’ comes before ‘Eyyvah Eyvah’."
   ]
  },
  {
   "cell_type": "code",
   "execution_count": 32,
   "metadata": {
    "scrolled": true
   },
   "outputs": [
    {
     "name": "stdout",
     "output_type": "stream",
     "text": [
      "https://tastedive.com/api/similar?q=Bridesmaids&type=movies&limit=5&k=345364-rafay-MDQH10P4\n",
      "https://tastedive.com/api/similar?q=Sherlock+Holmes&type=movies&limit=5&k=345364-rafay-MDQH10P4\n",
      "https://www.omdbapi.com/?t=Baby+Mama&r=json&apikey=6fd0ae41\n",
      "https://www.omdbapi.com/?t=The+Five-Year+Engagement&r=json&apikey=6fd0ae41\n",
      "https://www.omdbapi.com/?t=Date+Night&r=json&apikey=6fd0ae41\n",
      "https://www.omdbapi.com/?t=Bachelorette&r=json&apikey=6fd0ae41\n",
      "https://www.omdbapi.com/?t=Bad+Teacher&r=json&apikey=6fd0ae41\n",
      "https://www.omdbapi.com/?t=Sherlock+Holmes%3A+A+Game+Of+Shadows&r=json&apikey=6fd0ae41\n",
      "https://www.omdbapi.com/?t=Prince+Of+Persia%3A+The+Sands+Of+Time&r=json&apikey=6fd0ae41\n",
      "https://www.omdbapi.com/?t=Angels+%26+Demons&r=json&apikey=6fd0ae41\n",
      "https://www.omdbapi.com/?t=Iron+Man&r=json&apikey=6fd0ae41\n",
      "https://www.omdbapi.com/?t=Pirates+Of+The+Caribbean%3A+On+Stranger+Tides&r=json&apikey=6fd0ae41\n"
     ]
    },
    {
     "data": {
      "text/plain": [
       "['Iron Man',\n",
       " 'Date Night',\n",
       " 'Baby Mama',\n",
       " 'The Five-Year Engagement',\n",
       " 'Sherlock Holmes: A Game Of Shadows',\n",
       " 'Bachelorette',\n",
       " 'Bad Teacher',\n",
       " 'Prince Of Persia: The Sands Of Time',\n",
       " 'Angels & Demons',\n",
       " 'Pirates Of The Caribbean: On Stranger Tides']"
      ]
     },
     "execution_count": 32,
     "metadata": {},
     "output_type": "execute_result"
    }
   ],
   "source": [
    "def get_sorted_recommendations(namelist):\n",
    "    lst = get_related_titles(namelist)\n",
    "    fnl_lst = sorted(lst,key = lambda x: get_movie_rating(get_movie_data(x)),reverse = True)\n",
    "    return fnl_lst\n",
    "# some invocations that we use in the automated tests; uncomment these if you are getting errors and want better error messages\n",
    "get_sorted_recommendations([\"Bridesmaids\", \"Sherlock Holmes\"])\n"
   ]
  },
  {
   "cell_type": "code",
   "execution_count": null,
   "metadata": {},
   "outputs": [],
   "source": []
  }
 ],
 "metadata": {
  "kernelspec": {
   "display_name": "Python 3",
   "language": "python",
   "name": "python3"
  },
  "language_info": {
   "codemirror_mode": {
    "name": "ipython",
    "version": 3
   },
   "file_extension": ".py",
   "mimetype": "text/x-python",
   "name": "python",
   "nbconvert_exporter": "python",
   "pygments_lexer": "ipython3",
   "version": "3.7.3"
  }
 },
 "nbformat": 4,
 "nbformat_minor": 2
}
