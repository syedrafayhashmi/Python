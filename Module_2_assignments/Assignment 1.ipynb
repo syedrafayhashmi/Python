{
 "cells": [
  {
   "cell_type": "markdown",
   "metadata": {},
   "source": [
    "Split a paragraph (consist of mutiple characters like , . ? and !) into sentences and make a Numpy Array based on these sentences . ."
   ]
  },
  {
   "cell_type": "code",
   "execution_count": 2,
   "metadata": {},
   "outputs": [],
   "source": [
    "import nltk.data"
   ]
  },
  {
   "cell_type": "code",
   "execution_count": 3,
   "metadata": {},
   "outputs": [],
   "source": [
    "import numpy as np"
   ]
  },
  {
   "cell_type": "code",
   "execution_count": 32,
   "metadata": {},
   "outputs": [],
   "source": [
    "mytext = \"\"\"Sarah: Hello Mr. Jason, how are you, it's been a long time since we last met?\n",
    "Jason: Oh!, hi Sarah I'm have got a new job now and is going great. How about you?\n",
    "Sarah: Not too bad.\n",
    "Jason: How often do you eat at this cafe?\n",
    "Sarah: This is my first time my friends kept telling me the food was great, so tonight I decided to try it. What have you been up to?\n",
    "Jason: I have been so busy with my new job that I have not had the time to do much else, but otherwise, me and the family are all fine.\n",
    "Sarah: Well, I hope you and your family have a lovely meal.\n",
    "Jason: Yes you too.\"\"\""
   ]
  },
  {
   "cell_type": "code",
   "execution_count": 33,
   "metadata": {},
   "outputs": [],
   "source": [
    "data = nltk.data.load('english.pickle')"
   ]
  },
  {
   "cell_type": "code",
   "execution_count": 40,
   "metadata": {},
   "outputs": [],
   "source": [
    "output = '\\n************\\n'.join(data.tokenize(mytext))"
   ]
  },
  {
   "cell_type": "code",
   "execution_count": 41,
   "metadata": {},
   "outputs": [],
   "source": [
    "np_array_data = np.array(output)"
   ]
  },
  {
   "cell_type": "code",
   "execution_count": 42,
   "metadata": {},
   "outputs": [
    {
     "data": {
      "text/plain": [
       "array(\"Sarah: Hello Mr. Jason, how are you, it's been a long time since we last met?\\n************\\nJason: Oh!, hi Sarah I'm have got a new job now and is going great.\\n************\\nHow about you?\\n************\\nSarah: Not too bad.\\n************\\nJason: How often do you eat at this cafe?\\n************\\nSarah: This is my first time my friends kept telling me the food was great, so tonight I decided to try it.\\n************\\nWhat have you been up to?\\n************\\nJason: I have been so busy with my new job that I have not had the time to do much else, but otherwise, me and the family are all fine.\\n************\\nSarah: Well, I hope you and your family have a lovely meal.\\n************\\nJason: Yes you too.\",\n",
       "      dtype='<U689')"
      ]
     },
     "execution_count": 42,
     "metadata": {},
     "output_type": "execute_result"
    }
   ],
   "source": [
    "np_array_data"
   ]
  },
  {
   "cell_type": "code",
   "execution_count": null,
   "metadata": {},
   "outputs": [],
   "source": []
  }
 ],
 "metadata": {
  "kernelspec": {
   "display_name": "Python 3",
   "language": "python",
   "name": "python3"
  },
  "language_info": {
   "codemirror_mode": {
    "name": "ipython",
    "version": 3
   },
   "file_extension": ".py",
   "mimetype": "text/x-python",
   "name": "python",
   "nbconvert_exporter": "python",
   "pygments_lexer": "ipython3",
   "version": "3.7.3"
  }
 },
 "nbformat": 4,
 "nbformat_minor": 2
}
