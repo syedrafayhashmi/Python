{
 "cells": [
  {
   "cell_type": "markdown",
   "metadata": {},
   "source": [
    "# Description: Assessment for More about Iteration lesson"
   ]
  },
  {
   "cell_type": "markdown",
   "metadata": {},
   "source": [
    "Write a function, sublist, that takes in a list of numbers as the parameter. In the function, use a while loop to return a sublist of the input list. The sublist should contain the same values of the original list up until it reaches the number 5 (it should not contain the number 5).\n"
   ]
  },
  {
   "cell_type": "code",
   "execution_count": 20,
   "metadata": {},
   "outputs": [
    {
     "data": {
      "text/plain": [
       "[1, 2, 3, 4, 6, 7, 8]"
      ]
     },
     "execution_count": 20,
     "metadata": {},
     "output_type": "execute_result"
    }
   ],
   "source": [
    "def sublist(a):\n",
    "    x=a\n",
    "    lst=[]\n",
    "    ind=0\n",
    "    while x[ind] != 5:\n",
    "        if 5 not in x: \n",
    "            return x\n",
    "            break            \n",
    "        else:\n",
    "            lst.append(x[ind])\n",
    "            ind+=1\n",
    "    return lst\n",
    "                   \n",
    "sublist([1,2,3,4,6,7,8])"
   ]
  },
  {
   "cell_type": "code",
   "execution_count": 21,
   "metadata": {},
   "outputs": [
    {
     "data": {
      "text/plain": [
       "[1, 2, 3, 4, 6, 7, 8]"
      ]
     },
     "execution_count": 21,
     "metadata": {},
     "output_type": "execute_result"
    }
   ],
   "source": [
    "def sublist(x):\n",
    "    sub = []\n",
    "    x = (num for num in x)  # create a generator\n",
    "    num = next(x, 5)  \n",
    "    while num != 5:\n",
    "        sub.append(num)\n",
    "        num = next(x, 5)  # iterate\n",
    "    return sub\n",
    "sublist([1,2,3,4,6,7,8])"
   ]
  },
  {
   "cell_type": "markdown",
   "metadata": {},
   "source": [
    "Write a function called check_nums that takes a list as its parameter, and contains a while loop that only stops once the element of the list is the number 7. What is returned is a list of all of the numbers up until it reaches 7."
   ]
  },
  {
   "cell_type": "code",
   "execution_count": 23,
   "metadata": {},
   "outputs": [
    {
     "data": {
      "text/plain": [
       "[1, 2, 3, 4, 6, 8]"
      ]
     },
     "execution_count": 23,
     "metadata": {},
     "output_type": "execute_result"
    }
   ],
   "source": [
    "def check_nums(a):\n",
    "    x=a\n",
    "    lst=[]\n",
    "    ind=0\n",
    "    while x[ind] != 7:\n",
    "        if 7 not in x: \n",
    "            return x\n",
    "            break            \n",
    "        else:\n",
    "            lst.append(x[ind])\n",
    "            ind+=1\n",
    "    return lst\n",
    "                   \n",
    "sublist([1,2,3,4,6,8])"
   ]
  },
  {
   "cell_type": "markdown",
   "metadata": {},
   "source": [
    "Write a function, sublist, that takes in a list of strings as the parameter. In the function, use a while loop to return a sublist of the input list. The sublist should contain the same values of the original list up until it reaches the string “STOP” (it should not contain the string “STOP”)."
   ]
  },
  {
   "cell_type": "code",
   "execution_count": 24,
   "metadata": {},
   "outputs": [],
   "source": [
    "def sublist(a):\n",
    "    x=a\n",
    "    lst=[]\n",
    "    ind=0\n",
    "    while x[ind] != \"STOP\":\n",
    "        if \"STOP\" not in x: \n",
    "            return x\n",
    "            break            \n",
    "        else:\n",
    "            lst.append(x[ind])\n",
    "            ind+=1\n",
    "    return lst\n",
    "                   "
   ]
  },
  {
   "cell_type": "markdown",
   "metadata": {},
   "source": [
    "Write a function called stop_at_z that iterates through a list of strings. Using a while loop, append each string to a new list until the string that appears is “z”. The function should return the new list."
   ]
  },
  {
   "cell_type": "code",
   "execution_count": 26,
   "metadata": {},
   "outputs": [],
   "source": [
    "\n",
    "def stop_at_z():\n",
    "    x=a\n",
    "    lst=[]\n",
    "    ind=0\n",
    "    while x[ind] != \"z\":\n",
    "        if \"z\" not in x: \n",
    "            return x\n",
    "            break            \n",
    "        else:\n",
    "            lst.append(x[ind])\n",
    "            ind+=1\n",
    "    return lst"
   ]
  },
  {
   "cell_type": "markdown",
   "metadata": {},
   "source": [
    "Below is a for loop that works. Underneath the for loop, rewrite the problem so that it does the same thing, but using a while loop instead of a for loop. Assign the accumulated total in the while loop code to the variable sum2. Once complete, sum2 should equal sum1."
   ]
  },
  {
   "cell_type": "code",
   "execution_count": 28,
   "metadata": {},
   "outputs": [],
   "source": [
    "\n",
    "sum1 = 0\n",
    "\n",
    "lst = [65, 78, 21, 33]\n",
    "\n",
    "for x in lst:\n",
    "    sum1 = sum1 + x\n",
    "a=0\n",
    "sum2 = 0\n",
    "while a < len(lst):\n",
    "    sum2 += lst[a]\n",
    "    a+=1\n"
   ]
  },
  {
   "cell_type": "markdown",
   "metadata": {},
   "source": [
    "Challenge: Write a function called beginning that takes a list as input and contains a while loop that only stops once the element of the list is the string ‘bye’. What is returned is a list that contains up to the first 10 strings, regardless of where the loop stops. (i.e., if it stops on the 32nd element, the first 10 are returned. If “bye” is the 5th element, the first 4 are returned.) If you want to make this even more of a challenge, do this without slicing"
   ]
  },
  {
   "cell_type": "code",
   "execution_count": null,
   "metadata": {},
   "outputs": [],
   "source": [
    "def beginning(a):\n",
    "    x=a\n",
    "    lst=[]\n",
    "    ind=0\n",
    "    while x[ind] != 'bye':\n",
    "        if 'bye' not in x: \n",
    "            return x\n",
    "            break            \n",
    "        else:\n",
    "            lst.append(x[ind])\n",
    "            ind+=1\n",
    "    return lst[:10]\n",
    "                   \n"
   ]
  }
 ],
 "metadata": {
  "kernelspec": {
   "display_name": "Python 3",
   "language": "python",
   "name": "python3"
  },
  "language_info": {
   "codemirror_mode": {
    "name": "ipython",
    "version": 3
   },
   "file_extension": ".py",
   "mimetype": "text/x-python",
   "name": "python",
   "nbconvert_exporter": "python",
   "pygments_lexer": "ipython3",
   "version": "3.7.3"
  }
 },
 "nbformat": 4,
 "nbformat_minor": 2
}
