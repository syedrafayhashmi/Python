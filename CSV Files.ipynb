{
 "cells": [
  {
   "cell_type": "markdown",
   "metadata": {},
   "source": [
    "# CSV FILES"
   ]
  },
  {
   "cell_type": "code",
   "execution_count": 13,
   "metadata": {},
   "outputs": [],
   "source": [
    "import csv"
   ]
  },
  {
   "cell_type": "code",
   "execution_count": null,
   "metadata": {},
   "outputs": [],
   "source": [
    "#reading data form csv file"
   ]
  },
  {
   "cell_type": "code",
   "execution_count": 17,
   "metadata": {},
   "outputs": [
    {
     "name": "stdout",
     "output_type": "stream",
     "text": [
      "['Year', 'Event', 'Winner']\n",
      "['1995', 'Best-Kept Lawn', 'None']\n",
      "['1999', 'Gobstones', 'Welch National']\n",
      "['2006', 'World Cup', 'Faso']\n",
      "['1992', 'Cricket Worldcup', 'Pakistan']\n"
     ]
    }
   ],
   "source": [
    "with open(\"mycsv.csv\") as file:\n",
    "    content = csv.reader(file)\n",
    "    for contents in content:\n",
    "        print(contents)"
   ]
  },
  {
   "cell_type": "code",
   "execution_count": 18,
   "metadata": {},
   "outputs": [],
   "source": [
    "#writing data in a csv file"
   ]
  },
  {
   "cell_type": "code",
   "execution_count": 19,
   "metadata": {},
   "outputs": [],
   "source": [
    "with open(\"newcsv.csv\",\"w\",newline=\"\") as file:\n",
    "    data_handler=csv.writer(file,delimiter=\",\")\n",
    "    data_handler.writerow([\"Name\",\"Class\",\"School\"])\n",
    "    data_handler.writerow([\"RAFAY\",\"SE\",\"NED\"])\n",
    "    data_handler.writerow([\"ASIF\",\"FE\",\"UIT\"])\n",
    "    data_handler.writerow([\"Shehzad\",\"TE\",\"DUET\"])\n",
    "    data_handler.writerow([\"Shammir\",\"BE\",\"SSUET\"])"
   ]
  },
  {
   "cell_type": "code",
   "execution_count": 20,
   "metadata": {},
   "outputs": [
    {
     "name": "stdout",
     "output_type": "stream",
     "text": [
      "['Name', 'Class', 'School']\n",
      "['RAFAY', 'SE', 'NED']\n",
      "['ASIF', 'FE', 'UIT']\n",
      "['Shehzad', 'TE', 'DUET']\n",
      "['Shammir', 'BE', 'SSUET']\n"
     ]
    }
   ],
   "source": [
    "with open(\"newcsv.csv\") as file:\n",
    "    content_ = csv.reader(file)\n",
    "    for contents_ in content_:\n",
    "        print(contents_)"
   ]
  },
  {
   "cell_type": "code",
   "execution_count": null,
   "metadata": {},
   "outputs": [],
   "source": [
    "#Appending in csv file"
   ]
  },
  {
   "cell_type": "code",
   "execution_count": 23,
   "metadata": {},
   "outputs": [],
   "source": [
    "with open(\"newcsv.csv\",\"a\",newline=\"\") as file:\n",
    "    data_handler=csv.writer(file,delimiter=\",\")\n",
    "    data_handler.writerow([\"Ali\",\"FE\",\"NUST\"])"
   ]
  },
  {
   "cell_type": "code",
   "execution_count": 24,
   "metadata": {},
   "outputs": [
    {
     "name": "stdout",
     "output_type": "stream",
     "text": [
      "['Name', 'Class', 'School']\n",
      "['RAFAY', 'SE', 'NED']\n",
      "['ASIF', 'FE', 'UIT']\n",
      "['Shehzad', 'TE', 'DUET']\n",
      "['Shammir', 'BE', 'SSUET']\n",
      "['Ali', 'FE', 'NUST']\n"
     ]
    }
   ],
   "source": [
    "with open(\"newcsv.csv\") as file:\n",
    "    content_ = csv.reader(file)\n",
    "    for contents_ in content_:\n",
    "        print(contents_)"
   ]
  },
  {
   "cell_type": "code",
   "execution_count": null,
   "metadata": {},
   "outputs": [],
   "source": []
  }
 ],
 "metadata": {
  "kernelspec": {
   "display_name": "Python 3",
   "language": "python",
   "name": "python3"
  },
  "language_info": {
   "codemirror_mode": {
    "name": "ipython",
    "version": 3
   },
   "file_extension": ".py",
   "mimetype": "text/x-python",
   "name": "python",
   "nbconvert_exporter": "python",
   "pygments_lexer": "ipython3",
   "version": "3.7.3"
  }
 },
 "nbformat": 4,
 "nbformat_minor": 2
}
