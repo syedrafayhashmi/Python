{
 "cells": [
  {
   "cell_type": "markdown",
   "metadata": {},
   "source": [
    "# Defining a function"
   ]
  },
  {
   "cell_type": "code",
   "execution_count": 20,
   "metadata": {},
   "outputs": [
    {
     "name": "stdout",
     "output_type": "stream",
     "text": [
      "1 RAFAY\n",
      "2 RAFAY\n",
      "3 RAFAY\n",
      "4 RAFAY\n",
      "5 RAFAY\n",
      "6 RAFAY\n",
      "7 RAFAY\n",
      "8 RAFAY\n",
      "9 RAFAY\n",
      "10 RAFAY\n"
     ]
    }
   ],
   "source": [
    "def myfunc():\n",
    "    for x in range(1,11):\n",
    "        print (x, 'RAFAY')\n",
    "myfunc()\n"
   ]
  },
  {
   "cell_type": "markdown",
   "metadata": {},
   "source": [
    "\n",
    "# Passing Arguements (positional)"
   ]
  },
  {
   "cell_type": "code",
   "execution_count": 19,
   "metadata": {},
   "outputs": [
    {
     "name": "stdout",
     "output_type": "stream",
     "text": [
      "1 RAFAY\n",
      "2 RAFAY\n",
      "3 RAFAY\n",
      "4 RAFAY\n",
      "5 RAFAY\n",
      "6 RAFAY\n",
      "7 RAFAY\n",
      "8 RAFAY\n",
      "9 RAFAY\n",
      "10 RAFAY\n"
     ]
    }
   ],
   "source": [
    "def myfunc2(num1, num2):\n",
    "        \n",
    "        for x in range(num1,num2):\n",
    "            print (x, 'RAFAY')\n",
    "myfunc2(1,11)\n"
   ]
  },
  {
   "cell_type": "code",
   "execution_count": 22,
   "metadata": {},
   "outputs": [
    {
     "name": "stdout",
     "output_type": "stream",
     "text": [
      "Syed Rafay Hashmi\n"
     ]
    }
   ],
   "source": [
    "def full_Name(first,middle,last):\n",
    "    print(first,middle,last)\n",
    "full_Name(\"Syed\",\"Rafay\",\"Hashmi\")\n"
   ]
  },
  {
   "cell_type": "markdown",
   "metadata": {},
   "source": [
    "# Passing Arguements(keyword)"
   ]
  },
  {
   "cell_type": "code",
   "execution_count": 21,
   "metadata": {},
   "outputs": [
    {
     "name": "stdout",
     "output_type": "stream",
     "text": [
      "1 RAFAY\n",
      "2 RAFAY\n",
      "3 RAFAY\n",
      "4 RAFAY\n",
      "5 RAFAY\n",
      "6 RAFAY\n",
      "7 RAFAY\n",
      "8 RAFAY\n",
      "9 RAFAY\n",
      "10 RAFAY\n"
     ]
    }
   ],
   "source": [
    "def myfunc2(num1, num2):\n",
    "        \n",
    "        for x in range(num1,num2):\n",
    "            print (x, 'RAFAY')\n",
    "myfunc2(num2=11,num1=1)\n"
   ]
  },
  {
   "cell_type": "code",
   "execution_count": 24,
   "metadata": {},
   "outputs": [
    {
     "name": "stdout",
     "output_type": "stream",
     "text": [
      "Syed Rafay Hashmi\n"
     ]
    }
   ],
   "source": [
    "def full_Name(first,middle,last):\n",
    "    print(first,middle,last)\n",
    "full_Name(middle=\"Rafay\",first=\"Syed\",last=\"Hashmi\")\n"
   ]
  },
  {
   "cell_type": "markdown",
   "metadata": {},
   "source": [
    "# Default Value Parameter"
   ]
  },
  {
   "cell_type": "code",
   "execution_count": 25,
   "metadata": {},
   "outputs": [
    {
     "name": "stdout",
     "output_type": "stream",
     "text": [
      "1 RAFAY\n",
      "2 RAFAY\n",
      "3 RAFAY\n",
      "4 RAFAY\n",
      "5 RAFAY\n",
      "6 RAFAY\n",
      "7 RAFAY\n",
      "8 RAFAY\n",
      "9 RAFAY\n",
      "10 RAFAY\n"
     ]
    }
   ],
   "source": [
    "def myfunc2(num1=1, num2=0): #defined the default value of parameters incase user didn't specify any parameter     \n",
    "        for x in range(num1,num2):\n",
    "            print (x, 'RAFAY')\n",
    "myfunc2(num2=11)\n"
   ]
  },
  {
   "cell_type": "code",
   "execution_count": 28,
   "metadata": {},
   "outputs": [
    {
     "name": "stdout",
     "output_type": "stream",
     "text": [
      "Syed \b Hashmi\n"
     ]
    }
   ],
   "source": [
    "def full_Name(first,last,middle=\"\\b\"):  #default values are specified at last\n",
    "    print(first,middle,last)\n",
    "full_Name(first=\"Syed\",last=\"Hashmi\")\n"
   ]
  },
  {
   "cell_type": "markdown",
   "metadata": {},
   "source": [
    "# Dealing With an Unknown Number of Arguements"
   ]
  },
  {
   "cell_type": "code",
   "execution_count": 32,
   "metadata": {},
   "outputs": [
    {
     "name": "stdout",
     "output_type": "stream",
     "text": [
      "5\n",
      "4\n",
      "(3, 5, 4, 6, 7, 8)\n"
     ]
    }
   ],
   "source": [
    "def display_nums(first,second,*extra):\n",
    "    print(first)\n",
    "    print(second)\n",
    "    print(extra)\n",
    "display_nums(5,4,3,5,4,6,7,8)"
   ]
  },
  {
   "cell_type": "code",
   "execution_count": 37,
   "metadata": {},
   "outputs": [
    {
     "name": "stdout",
     "output_type": "stream",
     "text": [
      "Your Order of 12 inch Chicken Fajita Pizza with ('meat', 'mayo', 'olives') is ready!!!\n"
     ]
    }
   ],
   "source": [
    "def PizzaOrder(size,flavour,*toppings):\n",
    "    print(f\"Your Order of {size} inch {flavour} Pizza with {toppings} is ready!!!\")\n",
    "PizzaOrder(12,\"Chicken Fajita\",\"meat\",\"mayo\",\"olives\")"
   ]
  },
  {
   "cell_type": "markdown",
   "metadata": {},
   "source": [
    "# Passing informatipn back from functions"
   ]
  },
  {
   "cell_type": "code",
   "execution_count": 49,
   "metadata": {},
   "outputs": [
    {
     "data": {
      "text/plain": [
       "(16, 4, 60, 1.6666666666666667)"
      ]
     },
     "execution_count": 49,
     "metadata": {},
     "output_type": "execute_result"
    }
   ],
   "source": [
    "def maths(num1,num2):\n",
    "    sums=num1+num2\n",
    "    sub=num1-num2\n",
    "    prod=num1*num2\n",
    "    div=num1/num2\n",
    "    \n",
    "    return sums,sub,prod,div  #returning the value\n",
    "maths(10,6)    "
   ]
  },
  {
   "cell_type": "markdown",
   "metadata": {},
   "source": [
    "# Using Functions as Variables"
   ]
  },
  {
   "cell_type": "code",
   "execution_count": 50,
   "metadata": {},
   "outputs": [],
   "source": [
    "def add(a,b):\n",
    "    return a+b\n",
    "def sub(b,a):\n",
    "    return a-b\n",
    "result = add(5,6) + sub (3,1)"
   ]
  },
  {
   "cell_type": "code",
   "execution_count": 51,
   "metadata": {},
   "outputs": [
    {
     "data": {
      "text/plain": [
       "9"
      ]
     },
     "execution_count": 51,
     "metadata": {},
     "output_type": "execute_result"
    }
   ],
   "source": [
    "result"
   ]
  },
  {
   "cell_type": "markdown",
   "metadata": {},
   "source": [
    "\n",
    "# Local and global variables"
   ]
  },
  {
   "cell_type": "code",
   "execution_count": 55,
   "metadata": {},
   "outputs": [
    {
     "name": "stdout",
     "output_type": "stream",
     "text": [
      "My name is RAFAY\n"
     ]
    }
   ],
   "source": [
    "def names():\n",
    "    name=\"RAFAY\"\n",
    "    print(f\"My name is {name}\") #local variable\n",
    "names()   "
   ]
  },
  {
   "cell_type": "code",
   "execution_count": 58,
   "metadata": {},
   "outputs": [
    {
     "name": "stdout",
     "output_type": "stream",
     "text": [
      "My name is Syed Rafay Hashmi\n"
     ]
    }
   ],
   "source": [
    "name2= \"Hashmi\" #global varible\n",
    "def names2():\n",
    "    print(f\"My name is Syed Rafay {name2}\")\n",
    "names2()  "
   ]
  },
  {
   "cell_type": "code",
   "execution_count": 59,
   "metadata": {},
   "outputs": [
    {
     "name": "stdout",
     "output_type": "stream",
     "text": [
      "Hashmi\n"
     ]
    }
   ],
   "source": [
    "print(name2)"
   ]
  },
  {
   "cell_type": "code",
   "execution_count": 61,
   "metadata": {},
   "outputs": [],
   "source": [
    "#print(name1) #would gnerate error"
   ]
  },
  {
   "cell_type": "markdown",
   "metadata": {},
   "source": [
    "# Functions within a Function"
   ]
  },
  {
   "cell_type": "code",
   "execution_count": 62,
   "metadata": {},
   "outputs": [],
   "source": [
    "def commisionCalc(sales):\n",
    "    if sales>150:\n",
    "        return sales*150\n",
    "    elif sales>100:\n",
    "        return sales*100\n",
    "    elif sales>50:\n",
    "        return sales*50\n",
    "    elif sales>20:\n",
    "        return sales*20\n",
    "    else:\n",
    "        return 0\n",
    "\n",
    "def salaryCalc(basic,sales):\n",
    "    gross_salary= basic + commisionCalc(sales)\n",
    "    print(f\"your  gross salary is {gross_salary}\")\n",
    "    "
   ]
  },
  {
   "cell_type": "code",
   "execution_count": 64,
   "metadata": {},
   "outputs": [
    {
     "name": "stdout",
     "output_type": "stream",
     "text": [
      "your  gross salary is 65000\n"
     ]
    }
   ],
   "source": [
    "salaryCalc(50000,150)"
   ]
  },
  {
   "cell_type": "code",
   "execution_count": null,
   "metadata": {},
   "outputs": [],
   "source": []
  }
 ],
 "metadata": {
  "kernelspec": {
   "display_name": "Python 3",
   "language": "python",
   "name": "python3"
  },
  "language_info": {
   "codemirror_mode": {
    "name": "ipython",
    "version": 3
   },
   "file_extension": ".py",
   "mimetype": "text/x-python",
   "name": "python",
   "nbconvert_exporter": "python",
   "pygments_lexer": "ipython3",
   "version": "3.7.3"
  }
 },
 "nbformat": 4,
 "nbformat_minor": 2
}
