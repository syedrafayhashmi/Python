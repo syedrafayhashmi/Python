{
 "cells": [
  {
   "cell_type": "code",
   "execution_count": 2,
   "metadata": {},
   "outputs": [
    {
     "name": "stdout",
     "output_type": "stream",
     "text": [
      "Exception Caught that is division by zero\n",
      "finally will always run\n"
     ]
    }
   ],
   "source": [
    "try:\n",
    "    5/0\n",
    "except Exception as e:\n",
    "    print(f\"Exception Caught that is {(e)}\")\n",
    "else:\n",
    "    print(\"NO EXCEPTION\")\n",
    "finally:\n",
    "    print(\"finally will always run\")"
   ]
  },
  {
   "cell_type": "code",
   "execution_count": 6,
   "metadata": {},
   "outputs": [
    {
     "name": "stdout",
     "output_type": "stream",
     "text": [
      "Enter a number55.5\n",
      "Exception Caught that is invalid literal for int() with base 10: '55.5'\n",
      "finally will always run\n"
     ]
    }
   ],
   "source": [
    "try:\n",
    "    val1=int(input(\"Enter a number\"))\n",
    "    val2=int(input(\"Enter another number\"))\n",
    "    ans=val1/val2\n",
    "    print(ans)\n",
    "except Exception as e:\n",
    "    print(f\"Exception Caught that is {(e)}\")\n",
    "else:\n",
    "    print(\"NO EXCEPTION\")\n",
    "finally:\n",
    "    print(\"finally will always run\")"
   ]
  },
  {
   "cell_type": "code",
   "execution_count": 7,
   "metadata": {},
   "outputs": [
    {
     "name": "stdout",
     "output_type": "stream",
     "text": [
      "Enter a number55\n",
      "Enter another number10\n",
      "5.5\n",
      "NO EXCEPTION\n",
      "finally will always run\n"
     ]
    }
   ],
   "source": [
    "try:\n",
    "    val1=int(input(\"Enter a number\"))\n",
    "    val2=int(input(\"Enter another number\"))\n",
    "    ans=val1/val2\n",
    "    print(ans)\n",
    "except Exception as e:\n",
    "    print(f\"Exception Caught that is {(e)}\")\n",
    "else:\n",
    "    print(\"NO EXCEPTION\")\n",
    "finally:\n",
    "    print(\"finally will always run\")"
   ]
  },
  {
   "cell_type": "code",
   "execution_count": null,
   "metadata": {},
   "outputs": [],
   "source": []
  }
 ],
 "metadata": {
  "kernelspec": {
   "display_name": "Python 3",
   "language": "python",
   "name": "python3"
  },
  "language_info": {
   "codemirror_mode": {
    "name": "ipython",
    "version": 3
   },
   "file_extension": ".py",
   "mimetype": "text/x-python",
   "name": "python",
   "nbconvert_exporter": "python",
   "pygments_lexer": "ipython3",
   "version": "3.7.3"
  }
 },
 "nbformat": 4,
 "nbformat_minor": 2
}
